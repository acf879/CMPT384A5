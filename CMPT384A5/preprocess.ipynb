{
 "cells": [
  {
   "cell_type": "code",
   "execution_count": 261,
   "metadata": {},
   "outputs": [],
   "source": [
    "def CustomParser(data):\n",
    "    import json\n",
    "    j1 = json.loads(data)\n",
    "    return j1"
   ]
  },
  {
   "cell_type": "code",
   "execution_count": 262,
   "metadata": {},
   "outputs": [],
   "source": [
    "import pandas as pd\n",
    "import matplotlib.pyplot as plt\n",
    "import numpy as np\n",
    "import json\n",
    "df = pd.read_json('boardgames_100.json')\n",
    "\n",
    "df.head()\n",
    "id_to_idx = {} # A useful dictionary for converting between IDs and indices.  \n",
    "idx_to_id = {}\n",
    "for i, id in enumerate(df.loc[:,'id']):\n",
    "    id_to_idx[id] = i\n",
    "    idx_to_id[i] = id"
   ]
  },
  {
   "cell_type": "code",
   "execution_count": 263,
   "metadata": {},
   "outputs": [],
   "source": [
    "df['recommendations'] = df['recommendations'].apply(lambda x: x['fans_liked'])"
   ]
  },
  {
   "cell_type": "code",
   "execution_count": 264,
   "metadata": {},
   "outputs": [],
   "source": [
    "adj_matrix = np.zeros((100,100))"
   ]
  },
  {
   "cell_type": "code",
   "execution_count": 265,
   "metadata": {},
   "outputs": [],
   "source": [
    "for index in range(100):\n",
    "    #print(f\"{index} : {df.iloc[index]['recommendations']}\")\n",
    "    # Construct the graph\n",
    "    v = id_to_idx[df.iloc[index]['id']] # Source node\n",
    "    for endpoint in df.iloc[index]['recommendations']:\n",
    "        try:\n",
    "            w = id_to_idx[endpoint] # Sink node\n",
    "            # Construct a directed edge (v, w)\n",
    "            adj_matrix[v][w] = 1\n",
    "        except:\n",
    "            pass"
   ]
  },
  {
   "cell_type": "code",
   "execution_count": 266,
   "metadata": {},
   "outputs": [],
   "source": [
    "# Get the categories\n",
    "df.types = df.types.apply(lambda x: x['categories'])\n",
    "df.types = df.types.apply(lambda x: [y['name'] for y in x])\n"
   ]
  },
  {
   "cell_type": "code",
   "execution_count": 267,
   "metadata": {},
   "outputs": [],
   "source": [
    "type_counts = {}\n",
    "for t_lst in df.types:\n",
    "    for t in t_lst:\n",
    "        if t not in type_counts:\n",
    "            type_counts[t] = 1\n",
    "        else:\n",
    "            type_counts[t] += 1\n",
    "\n",
    "\n",
    "type_counts = sorted(type_counts.items(), key=lambda x: x[1], reverse=True)\n",
    "temp = {}\n",
    "\n",
    "for t in type_counts:\n",
    "    temp[t[0]] = t[1]\n",
    "type_counts = temp"
   ]
  },
  {
   "cell_type": "code",
   "execution_count": 268,
   "metadata": {},
   "outputs": [],
   "source": [
    "def get_most_common_cat(t_lst: list):\n",
    "    best = t_lst[0]\n",
    "    for t in t_lst:\n",
    "        if type_counts[t] > type_counts[best]:\n",
    "            best = t\n",
    "    \n",
    "    return best"
   ]
  },
  {
   "cell_type": "code",
   "execution_count": 269,
   "metadata": {},
   "outputs": [],
   "source": [
    "cats = list(type_counts.keys())\n"
   ]
  },
  {
   "cell_type": "code",
   "execution_count": 270,
   "metadata": {},
   "outputs": [
    {
     "name": "stdout",
     "output_type": "stream",
     "text": [
      "14\n"
     ]
    }
   ],
   "source": [
    "categories = []\n",
    "for i in range(len(df.types)):\n",
    "    if get_most_common_cat(df.types[i]) not in categories:\n",
    "        categories.append(get_most_common_cat(df.types[i]))\n",
    "\n",
    "print(len(categories))"
   ]
  },
  {
   "cell_type": "code",
   "execution_count": 271,
   "metadata": {},
   "outputs": [],
   "source": [
    "colors = [\"black\", \"orangered\", \"darksalmon\", \"saddlebrown\", \"darkorange\", \"greenyellow\", \"green\", \"turqoise\", \"teal\", \"cyan\", \"skyblue\", \"grey\", \"blue\", \"violet\"]"
   ]
  },
  {
   "cell_type": "code",
   "execution_count": 272,
   "metadata": {},
   "outputs": [
    {
     "data": {
      "image/png": "[encoded data removed]",
      "text/plain": [
       "<Figure size 432x288 with 1 Axes>"
      ]
     },
     "metadata": {
      "needs_background": "light"
     },
     "output_type": "display_data"
    }
   ],
   "source": [
    "u,s,vt = np.linalg.svd(adj_matrix)\n",
    "fig = plt.figure()\n",
    "ax = fig.add_subplot(projection='3d')\n",
    "x = u[:,0]\n",
    "y = u[:,1]\n",
    "z = u[:,2]\n",
    "\n",
    "for i, datapoint in enumerate(adj_matrix):\n",
    "    # Represent the datapoint in our new basis consisting of x,y,z\n",
    "    # AKA, the 3 most significant singular vectors of the data matrix\n",
    "    xs = np.dot(x, datapoint)\n",
    "    ys = np.dot(y, datapoint)\n",
    "    zs = np.dot(z, datapoint)\n",
    "    try:\n",
    "        mark_color = colors[cats.index(get_most_common_cat(df.types[i]))]\n",
    "        ax.scatter(xs, ys, zs,color=mark_color)\n",
    "    except:\n",
    "        ax.scatter(xs, ys, zs,color=\"black\")\n",
    "\n",
    "plt.show()\n",
    "\n"
   ]
  },
  {
   "cell_type": "code",
   "execution_count": null,
   "metadata": {},
   "outputs": [],
   "source": []
  }
 ],
 "metadata": {
  "kernelspec": {
   "display_name": "Python 3 (ipykernel)",
   "language": "python",
   "name": "python3"
  },
  "language_info": {
   "codemirror_mode": {
    "name": "ipython",
    "version": 3
   },
   "file_extension": ".py",
   "mimetype": "text/x-python",
   "name": "python",
   "nbconvert_exporter": "python",
   "pygments_lexer": "ipython3",
   "version": "3.10.10"
  },
  "orig_nbformat": 4
 },
 "nbformat": 4,
 "nbformat_minor": 2
}
